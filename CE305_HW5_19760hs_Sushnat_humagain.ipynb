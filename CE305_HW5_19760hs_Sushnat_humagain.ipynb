{
  "nbformat": 4,
  "nbformat_minor": 0,
  "metadata": {
    "colab": {
      "provenance": [],
      "authorship_tag": "ABX9TyNoHEKjOZ/p5GohFj5bqKFu",
      "include_colab_link": true
    },
    "kernelspec": {
      "name": "python3",
      "display_name": "Python 3"
    },
    "language_info": {
      "name": "python"
    }
  },
  "cells": [
    {
      "cell_type": "markdown",
      "metadata": {
        "id": "view-in-github",
        "colab_type": "text"
      },
      "source": [
        "<a href=\"https://colab.research.google.com/github/sushanthum616/CE305-computerorg/blob/main/CE305_HW5_19760hs_Sushnat_humagain.ipynb\" target=\"_parent\"><img src=\"https://colab.research.google.com/assets/colab-badge.svg\" alt=\"Open In Colab\"/></a>"
      ]
    },
    {
      "cell_type": "code",
      "execution_count": 46,
      "metadata": {
        "colab": {
          "base_uri": "https://localhost:8080/"
        },
        "id": "DlWtWsCvkwOP",
        "outputId": "e81896df-8458-47e7-d99e-7980ff815a48"
      },
      "outputs": [
        {
          "output_type": "stream",
          "name": "stdout",
          "text": [
            "Memory: {800: 900, 900: 1000, 1500: 700}\n",
            "Accumulator (Immediate): 800\n",
            "Accumulator (Direct): 900\n",
            "Accumulator (Indirect): 1000\n",
            "Accumulator (Indexed): 700\n"
          ]
        }
      ],
      "source": [
        "#question no.1\n",
        "init_mem = {}  # Empty memory at the very beginning\n",
        "a = {800: 123}  # 1st data with address 800 and value 123\n",
        "b = {900: 1000}  # 2nd data with address 900 and value 1000\n",
        "\n",
        "def store(storage, elm):  # Store an element to the memory\n",
        "    storage.update(elm)\n",
        "    return storage\n",
        "\n",
        "mem = store(init_mem, a)  # mem = {800: 123}\n",
        "mem = store(mem, b)  # mem = {800: 123, 900: 1000}\n",
        "\n",
        "c = {800: 900}\n",
        "mem = store(mem, c)  # mem = {800: 900, 900: 1000}\n",
        "\n",
        "d = {1500: 700}\n",
        "mem = store(mem, d)  # mem = {800: 900, 900: 1000, 1500: 700}\n",
        "\n",
        "def imm_load_ac(val):  # Load accumulator(ac) by immediate addressing\n",
        "    return val\n",
        "\n",
        "ac = imm_load_ac(800)  # ac = 800\n",
        "\n",
        "def dir_load_ac(storage, val):  # Load accumulator(ac) by direct addressing\n",
        "    return storage[val]\n",
        "\n",
        "ac_dir = dir_load_ac(mem, 800)  # ac = 123\n",
        "\n",
        "def indir_load_ac(storage, val):  # Load accumulator(ac) by indirect addressing\n",
        "    return storage.get(storage.get(val, 0), 0)\n",
        "\n",
        "ac_indir = indir_load_ac(mem, 800)  # ac = 1000\n",
        "\n",
        "def idx_load_ac(storage, idx, val):  # Load accumulator(ac) by Indexed addressing\n",
        "    return storage.get(idx + val, 0)\n",
        "\n",
        "idxreg = 700\n",
        "ac_idx = idx_load_ac(mem, idxreg, 800)  # ac = 700\n",
        "\n",
        "# Output\n",
        "print(\"Memory:\", mem)\n",
        "print(\"Accumulator (Immediate):\", ac)\n",
        "print(\"Accumulator (Direct):\", ac_dir)\n",
        "print(\"Accumulator (Indirect):\", ac_indir)\n",
        "print(\"Accumulator (Indexed):\", ac_idx)\n"
      ]
    },
    {
      "cell_type": "code",
      "source": [
        "#question no.3\n",
        "import time\n",
        "\n",
        "# Initialize memory\n",
        "init_mem = {}\n",
        "\n",
        "def store(storage, elm):\n",
        "    storage.update(elm)\n",
        "    return storage\n",
        "\n",
        "# Initialize cache\n",
        "cache = {\n",
        "    \"blk0\": [\"00000000000\", [0,0,0,0,0,0,0,0], 0, 0],\n",
        "    \"blk1\": [\"00000000000\", [0,0,0,0,0,0,0,0], 0, 0],\n",
        "    \"blk2\": [\"00000000000\", [0,0,0,0,0,0,0,0], 0, 0],\n",
        "    \"blk3\": [\"00000000000\", [0,0,0,0,0,0,0,0], 0, 0]\n",
        "}\n",
        "\n",
        "def fully_ass_cache(cache, adr, storage):\n",
        "    # Extract tag from address\n",
        "    tag = adr[:-3]\n",
        "\n",
        "    # Check if the address is already in cache\n",
        "    for block, data in cache.items():\n",
        "        if data[0] == tag:  # Compare tags\n",
        "            # Update LRU timestamp\n",
        "            data[3] = time.time()\n",
        "            return cache\n",
        "\n",
        "    # If not in cache, check if there's an empty line\n",
        "    for block, data in cache.items():\n",
        "        if data[2] == 0:  # Check valid bit\n",
        "            # Store data in cache\n",
        "            data[0] = tag  # Store tag\n",
        "            data[1] = storage.get(tag, [0,0,0,0,0,0,0,0])  # Use tag as the key to retrieve block data\n",
        "            data[2] = 1  # Set valid bit\n",
        "            data[3] = time.time()  # Update LRU timestamp\n",
        "            return cache\n",
        "\n",
        "    # If cache is full, find the LRU block\n",
        "    lru_block = min(cache.items(), key=lambda x: x[1][3])[0]\n",
        "    # Replace the LRU block\n",
        "    cache[lru_block][0] = tag  # Store new tag\n",
        "    cache[lru_block][1] = storage.get(tag, [0,0,0,0,0,0,0,0])  # Use tag as the key to retrieve new block data\n",
        "    cache[lru_block][2] = 1  # Set valid bit\n",
        "    cache[lru_block][3] = time.time()  # Update LRU timestamp\n",
        "\n",
        "    return cache\n",
        "\n",
        "# Storing data in memory\n",
        "a = {\"00000110101000\": [0,1,2,3,4,5,6,7]}\n",
        "init_mem = store(init_mem, a)\n",
        "\n",
        "b = {\"00001110101000\": [10,11,12,13,14,15,16,17]}\n",
        "init_mem = store(init_mem, b)\n",
        "\n",
        "c = {\"00011110101000\": [20,21,22,23,24,25,26,27]}\n",
        "init_mem = store(init_mem, c)\n",
        "\n",
        "d = {\"00111110101000\": [30,31,32,33,34,35,36,37]}\n",
        "init_mem = store(init_mem, d)\n",
        "\n",
        "e = {\"01111110101000\": [40,41,42,43,44,45,46,47]}\n",
        "init_mem = store(init_mem, e)\n",
        "\n",
        "# Using the fully associative cache\n",
        "adr1 = \"00000110101010\" # hex address: 1AA\n",
        "cache = fully_ass_cache(cache, adr1, init_mem)\n",
        "\n",
        "adr2 = \"00001110101010\" # hex address: 3AA\n",
        "cache = fully_ass_cache(cache, adr2, init_mem)\n",
        "\n",
        "adr3 = \"00011110101111\" # hex address: 7AF\n",
        "cache = fully_ass_cache(cache, adr3, init_mem)\n",
        "\n",
        "adr4 = \"00111110101101\" # hex address: FAD\n",
        "cache = fully_ass_cache(cache, adr4, init_mem)\n",
        "\n",
        "adr5 = \"01111110101110\" # hex address: 1FAE\n",
        "cache = fully_ass_cache(cache, adr5, init_mem)\n",
        "\n",
        "# Print the final state of the cache\n",
        "print(cache)\n"
      ],
      "metadata": {
        "colab": {
          "base_uri": "https://localhost:8080/"
        },
        "id": "lPvsgUr0XG2c",
        "outputId": "36f47eb9-c586-423d-c8f3-890535edb948"
      },
      "execution_count": 47,
      "outputs": [
        {
          "output_type": "stream",
          "name": "stdout",
          "text": [
            "{'blk0': ['01111110101', [0, 0, 0, 0, 0, 0, 0, 0], 1, 1702354661.960095], 'blk1': ['00001110101', [0, 0, 0, 0, 0, 0, 0, 0], 1, 1702354661.9599514], 'blk2': ['00011110101', [0, 0, 0, 0, 0, 0, 0, 0], 1, 1702354661.9599977], 'blk3': ['00111110101', [0, 0, 0, 0, 0, 0, 0, 0], 1, 1702354661.9600446]}\n"
          ]
        }
      ]
    },
    {
      "cell_type": "code",
      "source": [
        "#question no.2\n",
        "init_mem = {}\n",
        "\n",
        "def store(storage, elm):\n",
        "    storage.update(elm)\n",
        "    return storage\n",
        "\n",
        "mem = store(init_mem, {\"00000110101000\": [0, 1, 2, 3, 4, 5, 6, 7]})\n",
        "\n",
        "b = {\"00001110101000\": [10, 11, 12, 13, 14, 15, 16, 17]}\n",
        "mem = store(mem, b)\n",
        "\n",
        "cache = {\n",
        "    \"0000\": [\"0000000\", [0, 0, 0, 0, 0, 0, 0, 0], 0],\n",
        "    \"0001\": [\"0000000\", [0, 0, 0, 0, 0, 0, 0, 0], 0],\n",
        "    \"0010\": [\"0000000\", [0, 0, 0, 0, 0, 0, 0, 0], 0],\n",
        "    \"0011\": [\"0000000\", [0, 0, 0, 0, 0, 0, 0, 0], 0],\n",
        "    \"0100\": [\"0000000\", [0, 0, 0, 0, 0, 0, 0, 0], 0],\n",
        "    \"0101\": [\"0000000\", [0, 0, 0, 0, 0, 0, 0, 0], 0],\n",
        "    \"0110\": [\"0000000\", [0, 0, 0, 0, 0, 0, 0, 0], 0],\n",
        "    \"0111\": [\"0000000\", [0, 0, 0, 0, 0, 0, 0, 0], 0],\n",
        "    \"1000\": [\"0000000\", [0, 0, 0, 0, 0, 0, 0, 0], 0],\n",
        "    \"1001\": [\"0000000\", [0, 0, 0, 0, 0, 0, 0, 0], 0],\n",
        "    \"1010\": [\"0000000\", [0, 0, 0, 0, 0, 0, 0, 0], 0],\n",
        "    \"1011\": [\"0000000\", [0, 0, 0, 0, 0, 0, 0, 0], 0],\n",
        "    \"1100\": [\"0000000\", [0, 0, 0, 0, 0, 0, 0, 0], 0],\n",
        "    \"1101\": [\"0000000\", [0, 0, 0, 0, 0, 0, 0, 0], 0],\n",
        "    \"1110\": [\"0000000\", [0, 0, 0, 0, 0, 0, 0, 0], 0],\n",
        "    \"1111\": [\"0000000\", [0, 0, 0, 0, 0, 0, 0, 0], 0]\n",
        "}\n",
        "\n",
        "def dir_map_cache(cache, adr, storage):\n",
        "    block_label = adr[4:8]\n",
        "    tag = adr[:7]\n",
        "    if block_label not in cache:\n",
        "        cache[block_label] = [tag, storage.get(adr, [0, 0, 0, 0, 0, 0, 0, 0]), 1]\n",
        "    else:\n",
        "        cache[block_label] = [tag, storage.get(adr, [0, 0, 0, 0, 0, 0, 0, 0]), 1]\n",
        "    return cache\n",
        "\n",
        "adr1 = \"00000110101010\"  # hex address: 1AA\n",
        "cache = dir_map_cache(cache, adr1, mem)\n",
        "\n",
        "adr2 = \"00001110101010\"  # hex address: 3AA\n",
        "cache = dir_map_cache(cache, adr2, mem)\n",
        "\n",
        "c = {\"00001110111000\": [20, 21, 22, 23, 24, 25, 26, 27]}\n",
        "mem = store(mem, c)\n",
        "\n",
        "adr3 = \"00001110111111\"  # hex address: 7BF\n",
        "cache = dir_map_cache(cache, adr3, mem)\n",
        "\n",
        "def check_cache(cache, adr):\n",
        "    block_label = adr[4:8]\n",
        "    if block_label in cache and cache[block_label][2] == 1:\n",
        "        print(\"Hit\")\n",
        "    else:\n",
        "        print(\"Miss\")\n",
        "\n",
        "check_cache(cache, adr1)\n",
        "check_cache(cache, adr2)\n",
        "check_cache(cache, adr3)\n"
      ],
      "metadata": {
        "colab": {
          "base_uri": "https://localhost:8080/"
        },
        "id": "k8L9QEhuXQD0",
        "outputId": "5fa30dac-9797-4f3e-8b26-a7ceae13984e"
      },
      "execution_count": 48,
      "outputs": [
        {
          "output_type": "stream",
          "name": "stdout",
          "text": [
            "Hit\n",
            "Hit\n",
            "Hit\n"
          ]
        }
      ]
    }
  ]
}
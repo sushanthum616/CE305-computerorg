{
  "nbformat": 4,
  "nbformat_minor": 0,
  "metadata": {
    "colab": {
      "provenance": [],
      "authorship_tag": "ABX9TyN5utFTRKbV9AtzQw33eCVU",
      "include_colab_link": true
    },
    "kernelspec": {
      "name": "python3",
      "display_name": "Python 3"
    },
    "language_info": {
      "name": "python"
    }
  },
  "cells": [
    {
      "cell_type": "markdown",
      "metadata": {
        "id": "view-in-github",
        "colab_type": "text"
      },
      "source": [
        "<a href=\"https://colab.research.google.com/github/sushanthum616/CE305-computerorg/blob/main/CE305_19760hs_week7_Sushany_humagain.ipynb\" target=\"_parent\"><img src=\"https://colab.research.google.com/assets/colab-badge.svg\" alt=\"Open In Colab\"/></a>"
      ]
    },
    {
      "cell_type": "code",
      "source": [
        "#question no. 1\n",
        "def xor(a, b):\n",
        "    result = []\n",
        "    for i in range(1, len(b)):\n",
        "        if a[i] == b[i]:\n",
        "            result.append('0')\n",
        "        else:\n",
        "            result.append('1')\n",
        "    return ''.join(result)\n",
        "\n",
        "def mod2div(dividend, divisor):\n",
        "    pick = len(divisor)\n",
        "    tmp = dividend[0: pick]\n",
        "\n",
        "    while pick < len(dividend):\n",
        "\n",
        "        if tmp[0] == '1':\n",
        "            tmp = xor(divisor, tmp) + dividend[pick]\n",
        "        else:\n",
        "            tmp = xor('0'*pick, tmp) + dividend[pick]\n",
        "\n",
        "        pick += 1\n",
        "\n",
        "    if tmp[0] == '1':\n",
        "        tmp = xor(divisor, tmp)\n",
        "    else:\n",
        "        tmp = xor('0'*pick, tmp)\n",
        "\n",
        "    checkword = tmp\n",
        "    return checkword\n",
        "\n",
        "def encodeData(data, poly):\n",
        "    l_key = len(poly)\n",
        "    appended_data = data + '0'*(l_key-1)\n",
        "    remainder = mod2div(appended_data, poly)\n",
        "    codeword = data + remainder\n",
        "    return codeword\n",
        "\n",
        "def decodeData(rcv, poly):\n",
        "    received_sig, remainder = rcv.split()\n",
        "    received_sig = received_sig.replace(\" \", \"\")\n",
        "    remainder = remainder.replace(\" \", \"\")\n",
        "    remainder = '0' * (len(poly) - 1 - len(remainder)) + remainder\n",
        "    received_sig += remainder\n",
        "\n",
        "    if '1' in mod2div(received_sig, poly):\n",
        "        return 'Error'\n",
        "    else:\n",
        "        return 'No error'\n",
        "\n",
        "# Test cases\n",
        "poly = '100101'  # 𝑥^5 + 𝑥^2 + 1\n",
        "\n",
        "org_sig1 = '1010'  # original 4-bit binary data\n",
        "encoded_output1 = encodeData(org_sig1, poly)\n",
        "print(\"Encoded Output 1:\", encoded_output1)\n",
        "\n",
        "org_sig2 = '1100'  # original 4-bit binary data\n",
        "encoded_output2 = encodeData(org_sig2, poly)\n",
        "print(\"Encoded Output 2:\", encoded_output2)\n",
        "\n",
        "received_sig1 = '1010 00111'  # if receiving the data without error\n",
        "decoding_result1 = decodeData(received_sig1, poly)\n",
        "print(\"Decoding Result 1:\", decoding_result1)\n",
        "\n",
        "received_sig2 = '1010 01111'  # if receiving the data with 1-bit error\n",
        "decoding_result2 = decodeData(received_sig2, poly)\n",
        "print(\"Decoding Result 2:\", decoding_result2)\n"
      ],
      "metadata": {
        "colab": {
          "base_uri": "https://localhost:8080/"
        },
        "id": "ZqTElKnfHjqG",
        "outputId": "f5f7f957-fadf-4b8d-9d16-1f16644a3d69"
      },
      "execution_count": 27,
      "outputs": [
        {
          "output_type": "stream",
          "name": "stdout",
          "text": [
            "Encoded Output 1: 101000111\n",
            "Encoded Output 2: 110011001\n",
            "Decoding Result 1: No error\n",
            "Decoding Result 2: Error\n"
          ]
        }
      ]
    },
    {
      "cell_type": "code",
      "source": [
        "#question no. 2\n",
        "import math\n",
        "\n",
        "def HamEncoding(msg, k):\n",
        "    m = len(msg)\n",
        "    while 2 ** k < m + k + 1:\n",
        "        k += 1\n",
        "\n",
        "    encoded = [0] * (m + k)\n",
        "    j = 0\n",
        "\n",
        "    for i in range(m + k):\n",
        "        if i + 1 == 2 ** j:\n",
        "            encoded[i] = None\n",
        "            j += 1\n",
        "        else:\n",
        "            encoded[i] = msg.pop(0)\n",
        "\n",
        "    for i in range(k):\n",
        "        mask = [j for j in range(m + k) if ((j + 1) >> i) & 1]\n",
        "        parity = sum(encoded[j] for j in mask if encoded[j] is not None) % 2\n",
        "        encoded[2 ** i - 1] = parity\n",
        "\n",
        "    encoded_str = ''.join(str(bit) for bit in encoded if bit is not None)\n",
        "    return encoded_str\n",
        "\n",
        "def HamDecoding(rcv, k):\n",
        "    received_data = [int(bit) if bit is not None else None for bit in rcv]\n",
        "\n",
        "    m = len(received_data) - k\n",
        "\n",
        "    error_bit = sum(2 ** i for i in range(k) if sum(received_data[2 ** i - 1::2 ** (i + 1)]) % 2 != 0)\n",
        "\n",
        "    if error_bit > 0:\n",
        "        received_data[error_bit - 1] ^= 1\n",
        "\n",
        "    decoded_data = [received_data[i] for i in range(len(received_data)) if i + 1 != 2 ** int(math.log2(i + 1) + 1)]\n",
        "\n",
        "    decoded_str = ''.join(str(bit) for bit in decoded_data if bit is not None)\n",
        "\n",
        "    if error_bit == 0:\n",
        "        return 'No error'\n",
        "    else:\n",
        "        return f'Error at Position {error_bit}, and correct data: {decoded_str}'\n",
        "\n",
        "# Test cases\n",
        "org_sig1 = [1, 1, 0, 1]\n",
        "k1 = 3\n",
        "encoded_sig1 = HamEncoding(org_sig1, k1)\n",
        "print(f\"Original Data: {org_sig1}, Encoded Data: {encoded_sig1}\")\n",
        "\n",
        "received_sig1 = list(encoded_sig1)\n",
        "k1 = 3\n",
        "result1 = HamDecoding(received_sig1, k1)\n",
        "print(result1)\n",
        "\n",
        "org_sig2 = [1, 0, 0, 1, 0, 1, 1]\n",
        "k2 = 4\n",
        "encoded_sig2 = HamEncoding(org_sig2, k2)\n",
        "print(f\"Original Data: {org_sig2}, Encoded Data: {encoded_sig2}\")\n",
        "\n",
        "received_sig2 = list(encoded_sig2)\n",
        "k2 = 4\n",
        "result2 = HamDecoding(received_sig2, k2)\n",
        "print(result2)\n",
        "\n"
      ],
      "metadata": {
        "id": "I8krvmNwuwYp",
        "colab": {
          "base_uri": "https://localhost:8080/"
        },
        "outputId": "d4fe36e8-9249-4661-cba0-784e5ebca71b"
      },
      "execution_count": 16,
      "outputs": [
        {
          "output_type": "stream",
          "name": "stdout",
          "text": [
            "Original Data: [], Encoded Data: 1010101\n",
            "No error\n",
            "Original Data: [], Encoded Data: 10110010011\n",
            "Error at Position 6, and correct data: 10110110011\n"
          ]
        }
      ]
    }
  ]
}